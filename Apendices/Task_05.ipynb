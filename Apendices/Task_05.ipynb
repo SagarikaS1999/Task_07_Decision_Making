{
 "cells": [
  {
   "cell_type": "code",
   "execution_count": 4,
   "id": "2bb77f72",
   "metadata": {},
   "outputs": [
    {
     "name": "stdout",
     "output_type": "stream",
     "text": [
      "Defaulting to user installation because normal site-packages is not writeable\n",
      "Collecting matplotlib\n",
      "  Downloading matplotlib-3.10.5-cp313-cp313-win_amd64.whl.metadata (11 kB)\n",
      "Collecting contourpy>=1.0.1 (from matplotlib)\n",
      "  Downloading contourpy-1.3.3-cp313-cp313-win_amd64.whl.metadata (5.5 kB)\n",
      "Collecting cycler>=0.10 (from matplotlib)\n",
      "  Downloading cycler-0.12.1-py3-none-any.whl.metadata (3.8 kB)\n",
      "Collecting fonttools>=4.22.0 (from matplotlib)\n",
      "  Downloading fonttools-4.59.0-cp313-cp313-win_amd64.whl.metadata (110 kB)\n",
      "Collecting kiwisolver>=1.3.1 (from matplotlib)\n",
      "  Downloading kiwisolver-1.4.8-cp313-cp313-win_amd64.whl.metadata (6.3 kB)\n",
      "Requirement already satisfied: numpy>=1.23 in c:\\users\\sagar\\appdata\\roaming\\python\\python313\\site-packages (from matplotlib) (2.2.4)\n",
      "Requirement already satisfied: packaging>=20.0 in c:\\users\\sagar\\appdata\\roaming\\python\\python313\\site-packages (from matplotlib) (24.2)\n",
      "Collecting pillow>=8 (from matplotlib)\n",
      "  Downloading pillow-11.3.0-cp313-cp313-win_amd64.whl.metadata (9.2 kB)\n",
      "Collecting pyparsing>=2.3.1 (from matplotlib)\n",
      "  Downloading pyparsing-3.2.3-py3-none-any.whl.metadata (5.0 kB)\n",
      "Requirement already satisfied: python-dateutil>=2.7 in c:\\users\\sagar\\appdata\\roaming\\python\\python313\\site-packages (from matplotlib) (2.9.0.post0)\n",
      "Requirement already satisfied: six>=1.5 in c:\\users\\sagar\\appdata\\roaming\\python\\python313\\site-packages (from python-dateutil>=2.7->matplotlib) (1.16.0)\n",
      "Downloading matplotlib-3.10.5-cp313-cp313-win_amd64.whl (8.1 MB)\n",
      "   ---------------------------------------- 0.0/8.1 MB ? eta -:--:--\n",
      "   ----------------------- ---------------- 4.7/8.1 MB 32.0 MB/s eta 0:00:01\n",
      "   -------------------------------------- - 7.9/8.1 MB 24.9 MB/s eta 0:00:01\n",
      "   ---------------------------------------- 8.1/8.1 MB 19.7 MB/s eta 0:00:00\n",
      "Downloading contourpy-1.3.3-cp313-cp313-win_amd64.whl (226 kB)\n",
      "Downloading cycler-0.12.1-py3-none-any.whl (8.3 kB)\n",
      "Downloading fonttools-4.59.0-cp313-cp313-win_amd64.whl (2.2 MB)\n",
      "   ---------------------------------------- 0.0/2.2 MB ? eta -:--:--\n",
      "   ---------------------------------------- 2.2/2.2 MB 24.2 MB/s eta 0:00:00\n",
      "Downloading kiwisolver-1.4.8-cp313-cp313-win_amd64.whl (71 kB)\n",
      "Downloading pillow-11.3.0-cp313-cp313-win_amd64.whl (7.0 MB)\n",
      "   ---------------------------------------- 0.0/7.0 MB ? eta -:--:--\n",
      "   ---------------------------------------  6.8/7.0 MB 41.0 MB/s eta 0:00:01\n",
      "   ---------------------------------------- 7.0/7.0 MB 28.4 MB/s eta 0:00:00\n",
      "Downloading pyparsing-3.2.3-py3-none-any.whl (111 kB)\n",
      "Installing collected packages: pyparsing, pillow, kiwisolver, fonttools, cycler, contourpy, matplotlib\n",
      "Successfully installed contourpy-1.3.3 cycler-0.12.1 fonttools-4.59.0 kiwisolver-1.4.8 matplotlib-3.10.5 pillow-11.3.0 pyparsing-3.2.3\n"
     ]
    },
    {
     "name": "stderr",
     "output_type": "stream",
     "text": [
      "\n",
      "[notice] A new release of pip is available: 24.2 -> 25.2\n",
      "[notice] To update, run: python.exe -m pip install --upgrade pip\n"
     ]
    }
   ],
   "source": [
    "!pip install matplotlib"
   ]
  },
  {
   "cell_type": "code",
   "execution_count": 5,
   "id": "b3ca4408",
   "metadata": {},
   "outputs": [],
   "source": [
    "import pandas as pd\n",
    "import matplotlib.pyplot as plt\n",
    "\n",
    "# Load the cleaned team and player stats from the CSV files we created earlier\n",
    "team_stats = pd.read_csv(\"team_statistics.csv\")\n",
    "player_stats = pd.read_csv(\"player_statistics_full.csv\")\n",
    "\n",
    "# BASIC STATS CALCULATIONS\n",
    "total_games = 22  # Based on dataset (all players show GP up to 22)\n",
    "total_goals = player_stats[\"G\"].sum()\n",
    "top_scorer = player_stats.loc[player_stats[\"G\"].idxmax(), \"Player\"]\n",
    "most_assists = player_stats.loc[player_stats[\"A\"].idxmax(), \"Player\"]\n",
    "highest_points = player_stats.loc[player_stats[\"Pts\"].idxmax(), \"Player\"]"
   ]
  },
  {
   "cell_type": "code",
   "execution_count": 11,
   "id": "29c1389e",
   "metadata": {},
   "outputs": [],
   "source": [
    "# Create charts\n",
    "# 1. Top 5 goal scorers bar chart\n",
    "top5_scorers = player_stats.sort_values(by=\"G\", ascending=False).head(5)\n",
    "plt.figure(figsize=(8,5))\n",
    "plt.bar(top5_scorers[\"Player\"], top5_scorers[\"G\"])\n",
    "plt.title(\"Top 5 Goal Scorers\")\n",
    "plt.ylabel(\"Goals\")\n",
    "plt.xticks(rotation=45, ha=\"right\")\n",
    "plt.tight_layout()\n",
    "plt.savefig(\"top5_scorers.png\")\n",
    "plt.close()"
   ]
  },
  {
   "cell_type": "code",
   "execution_count": 13,
   "id": "d1a131f4",
   "metadata": {},
   "outputs": [],
   "source": [
    "# 2. Goals vs Assists scatter plot for all players\n",
    "plt.figure(figsize=(8,5))\n",
    "plt.scatter(player_stats[\"G\"], player_stats[\"A\"])\n",
    "plt.title(\"Goals vs Assists (All Players)\")\n",
    "plt.xlabel(\"Goals\")\n",
    "plt.ylabel(\"Assists\")\n",
    "plt.tight_layout()\n",
    "plt.savefig(\"goals_vs_assists.png\")\n",
    "plt.close()"
   ]
  },
  {
   "cell_type": "code",
   "execution_count": 14,
   "id": "b634d37f",
   "metadata": {},
   "outputs": [
    {
     "data": {
      "text/plain": [
       "(22, np.int64(355), 'Emma Tyrrell', 'Emma Ward', 'Emma Tyrrell')"
      ]
     },
     "execution_count": 14,
     "metadata": {},
     "output_type": "execute_result"
    }
   ],
   "source": [
    "# 3. Pie chart: Distribution of goals among top 5 players\n",
    "plt.figure(figsize=(6,6))\n",
    "plt.pie(top5_scorers[\"G\"], labels=top5_scorers[\"Player\"], autopct='%1.1f%%', startangle=140)\n",
    "plt.title(\"Top 5 Players Goal Contribution\")\n",
    "plt.savefig(\"goals_pie.png\")\n",
    "plt.close()\n",
    "\n",
    "(total_games, total_goals, top_scorer, most_assists, highest_points)"
   ]
  }
 ],
 "metadata": {
  "kernelspec": {
   "display_name": "Python 3",
   "language": "python",
   "name": "python3"
  },
  "language_info": {
   "codemirror_mode": {
    "name": "ipython",
    "version": 3
   },
   "file_extension": ".py",
   "mimetype": "text/x-python",
   "name": "python",
   "nbconvert_exporter": "python",
   "pygments_lexer": "ipython3",
   "version": "3.13.0"
  }
 },
 "nbformat": 4,
 "nbformat_minor": 5
}
